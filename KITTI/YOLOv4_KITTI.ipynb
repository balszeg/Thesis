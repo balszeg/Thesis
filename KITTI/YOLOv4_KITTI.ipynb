{
  "nbformat": 4,
  "nbformat_minor": 0,
  "metadata": {
    "colab": {
      "name": "YOLOv4_KITTI.ipynb",
      "provenance": [],
      "authorship_tag": "ABX9TyPT74JDGMAe76n9Vvu8dTB2",
      "include_colab_link": true
    },
    "kernelspec": {
      "name": "python3",
      "display_name": "Python 3"
    },
    "language_info": {
      "name": "python"
    }
  },
  "cells": [
    {
      "cell_type": "markdown",
      "metadata": {
        "id": "view-in-github",
        "colab_type": "text"
      },
      "source": [
        "<a href=\"https://colab.research.google.com/github/balszeg/Thesis/blob/main/YOLOv4_KITTI.ipynb\" target=\"_parent\"><img src=\"https://colab.research.google.com/assets/colab-badge.svg\" alt=\"Open In Colab\"/></a>"
      ]
    },
    {
      "cell_type": "markdown",
      "metadata": {
        "id": "oVwUiIB8kx76"
      },
      "source": [
        "##Building DarkNet"
      ]
    },
    {
      "cell_type": "markdown",
      "metadata": {
        "id": "uPBJh7O5kwk9"
      },
      "source": [
        "Important to set the Colab runtime type to **GPU**."
      ]
    },
    {
      "cell_type": "code",
      "metadata": {
        "id": "CXBorOvlkq9p"
      },
      "source": [
        "# clone darknet repo\n",
        "!git clone https://github.com/AlexeyAB/darknet"
      ],
      "execution_count": null,
      "outputs": []
    },
    {
      "cell_type": "code",
      "metadata": {
        "id": "RIDN26d0k1wa"
      },
      "source": [
        "# change makefile to have GPU and OPENCV enabled\n",
        "%cd darknet\n",
        "!sed -i 's/OPENCV=0/OPENCV=1/' Makefile\n",
        "!sed -i 's/GPU=0/GPU=1/' Makefile\n",
        "!sed -i 's/CUDNN=0/CUDNN=1/' Makefile\n",
        "!sed -i 's/CUDNN_HALF=0/CUDNN_HALF=1/' Makefile"
      ],
      "execution_count": null,
      "outputs": []
    },
    {
      "cell_type": "code",
      "metadata": {
        "id": "wocyCFcjk3UH"
      },
      "source": [
        "# verify CUDA\n",
        "!/usr/local/cuda/bin/nvcc --version"
      ],
      "execution_count": null,
      "outputs": []
    },
    {
      "cell_type": "code",
      "metadata": {
        "id": "DjLPzcyhk45t"
      },
      "source": [
        "# make darknet\n",
        "!make"
      ],
      "execution_count": null,
      "outputs": []
    },
    {
      "cell_type": "code",
      "metadata": {
        "id": "QS10YLbEk-Pb"
      },
      "source": [
        "# mount Google Drive + creat symbolic link to short its path\n",
        "%cd ..\n",
        "from google.colab import drive\n",
        "drive.mount('/content/gdrive')\n",
        "!ln -s /content/gdrive/My\\ Drive/ /mydrive"
      ],
      "execution_count": null,
      "outputs": []
    },
    {
      "cell_type": "markdown",
      "metadata": {
        "id": "bKvm9521lIKj"
      },
      "source": [
        "##Dataset preprocessing"
      ]
    },
    {
      "cell_type": "code",
      "metadata": {
        "id": "a_1O2fumlHqH"
      },
      "source": [
        "# install TensorFlow datasets, TensorFlow, and Matplotlib\n",
        "!pip install -q tensorflow-datasets tensorflow matplotlib"
      ],
      "execution_count": null,
      "outputs": []
    },
    {
      "cell_type": "code",
      "metadata": {
        "id": "BhV_ChZDlVFu"
      },
      "source": [
        "# import them\n",
        "import matplotlib.pyplot as plt\n",
        "import numpy as np\n",
        "import tensorflow as tf\n",
        "\n",
        "import tensorflow_datasets as tfds"
      ],
      "execution_count": null,
      "outputs": []
    },
    {
      "cell_type": "code",
      "metadata": {
        "id": "hLbVNW9glXxl"
      },
      "source": [
        "# download KITTI\n",
        "# interrupt the process after the downloading, before .tfrecord creation start\n",
        "ds = tfds.load('kitti', split=['train','validation','test'] , shuffle_files=False, data_dir='/content/darknet/data/kitti')\n",
        "assert isinstance(ds, tf.data.Dataset)"
      ],
      "execution_count": null,
      "outputs": []
    },
    {
      "cell_type": "code",
      "metadata": {
        "id": "T4VRI7IKlcr6"
      },
      "source": [
        "%cd /content/darknet/data/kitti/downloads/"
      ],
      "execution_count": null,
      "outputs": []
    },
    {
      "cell_type": "code",
      "metadata": {
        "id": "STNJgVFNlpsq"
      },
      "source": [
        "!unzip s3.eu-central-1_avg-kitti_object_label_2okdQhuxqbGezqixznEkoPaq2KIsnILcOA-iVL6sLd5o.zip\n",
        "!unzip s3.eu-central-1_avg-kitti_object_image_2wcWQdlsC8TqO5-og-I_tnbmEYGA1YQAoPOGOASRGmis.zip"
      ],
      "execution_count": null,
      "outputs": []
    },
    {
      "cell_type": "code",
      "metadata": {
        "id": "w8pDOGGPtXfc"
      },
      "source": [
        "# delete the zipped files to free storage space up\n",
        "%cd /content/darknet/data/kitti/downloads\n",
        "!find . -name \"*.zip\" -type f -delete"
      ],
      "execution_count": null,
      "outputs": []
    },
    {
      "cell_type": "code",
      "metadata": {
        "id": "eC2qmw3fthJ3"
      },
      "source": [
        "# clone the YOLO converter repository\n",
        "!git clone https://github.com/ssaru/convert2Yolo"
      ],
      "execution_count": null,
      "outputs": []
    },
    {
      "cell_type": "code",
      "metadata": {
        "id": "Pc8712PLtrpP"
      },
      "source": [
        "# install the requirements\n",
        "%cd /content/darknet/data/kitti/downloads/convert2Yolo\n",
        "!pip3 install -r requirements.txt"
      ],
      "execution_count": null,
      "outputs": []
    },
    {
      "cell_type": "code",
      "metadata": {
        "id": "ufMm4rMdtwZI"
      },
      "source": [
        "# convert the labels to YOLO form\n",
        "!mkdir /content/darknet/data/kitti/downloads/converted\n",
        "!python3 example.py --datasets KITTI --img_path /content/darknet/data/kitti/downloads/training/image_2 --label /content/darknet/data/kitti/downloads/training/label_2 --convert_output_path /content/darknet/data/kitti/downloads/converted --img_type \".png\" --manifest_path ./ --cls_list_file /content/gdrive/MyDrive/yolov4/obj.names"
      ],
      "execution_count": null,
      "outputs": []
    },
    {
      "cell_type": "markdown",
      "metadata": {
        "id": "9GNlVo85uUJc"
      },
      "source": [
        "## Configuration"
      ]
    },
    {
      "cell_type": "code",
      "metadata": {
        "id": "XI2Aq_ytuQPG"
      },
      "source": [
        "# get the necessary config file from drive\n",
        "# the parameter selection detailed in the thesis\n",
        "%cd /content/darknet/cfg\n",
        "!cp /mydrive/yolov4/yolov4-obj.cfg /content/darknet/cfg\n",
        "!ls /content/darknet/cfg/"
      ],
      "execution_count": null,
      "outputs": []
    },
    {
      "cell_type": "code",
      "metadata": {
        "id": "eciwN-YNuden"
      },
      "source": [
        "# get the necessary .names and .data files from drive\n",
        "!cp /mydrive/yolov4/obj.names /content/darknet/data\n",
        "!cp /mydrive/yolov4/obj.data  /content/darknet/data"
      ],
      "execution_count": null,
      "outputs": []
    },
    {
      "cell_type": "code",
      "metadata": {
        "id": "AIthsswDugzo"
      },
      "source": [
        "# get the data path generator Python scripts from drive\n",
        "!cp /mydrive/yolov4/generate_train.py /content/darknet\n",
        "!cp /mydrive/yolov4/generate_test.py /content/darknet"
      ],
      "execution_count": null,
      "outputs": []
    },
    {
      "cell_type": "code",
      "metadata": {
        "id": "GspLq17SuvKT"
      },
      "source": [
        "# excute them\n",
        "%cd /content/darknet\n",
        "!python generate_train.py\n",
        "!python generate_val.py"
      ],
      "execution_count": null,
      "outputs": []
    },
    {
      "cell_type": "code",
      "metadata": {
        "id": "ns9Yg9RVu1vG"
      },
      "source": [
        "# copy the generated .txt inside the DarkNet folder\n",
        "!cp /content/darknet/data/kitti/downloads/testing/val.txt /content/darknet/data\n",
        "!cp /content/darknet/data/kitti/downloads/training/train.txt /content/darknet/data"
      ],
      "execution_count": null,
      "outputs": []
    },
    {
      "cell_type": "code",
      "metadata": {
        "id": "INqfKxvNvKL2"
      },
      "source": [
        "# copy the labels .txt to the same folders as the images\n",
        "# the YOLO demands this, so it could access to data\n",
        "!cp -a \"/content/darknet/data/kitti/downloads/training/label_2/.\" \"/content/darknet/data/kitti/downloads/training/image_2/\"\n",
        "!cp -a \"/content/darknet/data/kitti/downloads/validation/label_2/.\" \"/content/darknet/data/kitti/downloads/validation/image_2/\"\n",
        "!ls '/content/darknet/data/kitti/downloads/training/image_2/'"
      ],
      "execution_count": null,
      "outputs": []
    },
    {
      "cell_type": "markdown",
      "metadata": {
        "id": "wz_6jV9Sxpb8"
      },
      "source": [
        "## Training"
      ]
    },
    {
      "cell_type": "markdown",
      "metadata": {
        "id": "F3CpfXgKxyT2"
      },
      "source": [
        "Pressing **Ctrl+Shift+I** (or **F12**) the browser console opens up. Copying this script is prevent the Colab's timeout.\n",
        "```\n",
        "function ClickConnect(){\n",
        "console.log(\"Working\"); \n",
        "document\n",
        "  .querySelector('#top-toolbar > colab-connect-button')\n",
        "  .shadowRoot.querySelector('#connect')\n",
        "  .click() \n",
        "}\n",
        "setInterval(ClickConnect,60000)\n",
        "```"
      ]
    },
    {
      "cell_type": "code",
      "metadata": {
        "id": "GfXRAnA6xnsY"
      },
      "source": [
        "# training from scratch\n",
        "!./darknet detector train data/obj.data cfg/yolov4-obj.cfg -dont_show -map"
      ],
      "execution_count": null,
      "outputs": []
    },
    {
      "cell_type": "code",
      "metadata": {
        "id": "1gW2_oHWx5Ac"
      },
      "source": [
        "# training with pretrained weights\n",
        "!./darknet detector train data/obj.data cfg/yolov4-obj.cfg /mydrive/yolov4/backup/yolov4-obj_last.weights -dont_show -map"
      ],
      "execution_count": null,
      "outputs": []
    },
    {
      "cell_type": "markdown",
      "metadata": {
        "id": "eVFyNDx9ybFC"
      },
      "source": [
        "## Evaluate"
      ]
    },
    {
      "cell_type": "code",
      "metadata": {
        "id": "fHXv8rv9ybd5"
      },
      "source": [
        "# calculate metrics\n",
        "!./darknet detector map data/obj.data cfg/yolov4-obj.cfg /mydrive/yolov4/backup/yolov4-obj_last.weights"
      ],
      "execution_count": null,
      "outputs": []
    },
    {
      "cell_type": "code",
      "metadata": {
        "id": "gek2LMMeymCB"
      },
      "source": [
        "# testing on video\n",
        "!./darknet detector demo data/obj.data cfg/yolov4-obj.cfg yolov4-obj_last.weights -dont_show /mydrive/video/traffic_video.mp4 -i 0 -out_filename /mydrive/video/results.avi"
      ],
      "execution_count": null,
      "outputs": []
    }
  ]
}
