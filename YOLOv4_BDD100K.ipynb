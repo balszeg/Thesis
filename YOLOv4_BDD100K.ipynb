{
  "nbformat": 4,
  "nbformat_minor": 0,
  "metadata": {
    "colab": {
      "name": "YOLOv4_BDD100K.ipynb",
      "provenance": [],
      "authorship_tag": "ABX9TyPL2sAVQUCuh1fTKQvipunk",
      "include_colab_link": true
    },
    "kernelspec": {
      "name": "python3",
      "display_name": "Python 3"
    },
    "language_info": {
      "name": "python"
    },
    "accelerator": "GPU"
  },
  "cells": [
    {
      "cell_type": "markdown",
      "metadata": {
        "id": "view-in-github",
        "colab_type": "text"
      },
      "source": [
        "<a href=\"https://colab.research.google.com/github/balszeg/Thesis/blob/main/YOLOv4_BDD100K.ipynb\" target=\"_parent\"><img src=\"https://colab.research.google.com/assets/colab-badge.svg\" alt=\"Open In Colab\"/></a>"
      ]
    },
    {
      "cell_type": "markdown",
      "metadata": {
        "id": "MaWY4QK1CIY4"
      },
      "source": [
        "##Building DarkNet"
      ]
    },
    {
      "cell_type": "markdown",
      "metadata": {
        "id": "YLNfWek-HvlB"
      },
      "source": [
        "Important to set the Colab runtime type to **GPU**."
      ]
    },
    {
      "cell_type": "code",
      "metadata": {
        "id": "WQbzyBiL9i6Q"
      },
      "source": [
        "# clone darknet repo\n",
        "!git clone https://github.com/AlexeyAB/darknet"
      ],
      "execution_count": null,
      "outputs": []
    },
    {
      "cell_type": "code",
      "metadata": {
        "id": "wrQpHiyF9skV"
      },
      "source": [
        "# change makefile to have GPU and OPENCV enabled\n",
        "%cd darknet\n",
        "!sed -i 's/OPENCV=0/OPENCV=1/' Makefile\n",
        "!sed -i 's/GPU=0/GPU=1/' Makefile\n",
        "!sed -i 's/CUDNN=0/CUDNN=1/' Makefile\n",
        "!sed -i 's/CUDNN_HALF=0/CUDNN_HALF=1/' Makefile"
      ],
      "execution_count": null,
      "outputs": []
    },
    {
      "cell_type": "code",
      "metadata": {
        "id": "MH7YiLZn9ujm"
      },
      "source": [
        "# verify CUDA\n",
        "!/usr/local/cuda/bin/nvcc --version"
      ],
      "execution_count": null,
      "outputs": []
    },
    {
      "cell_type": "code",
      "metadata": {
        "id": "Ovv6yfJO9wm7"
      },
      "source": [
        "# make darknet\n",
        "!make"
      ],
      "execution_count": null,
      "outputs": []
    },
    {
      "cell_type": "code",
      "metadata": {
        "id": "KIcLhWEe9yQN"
      },
      "source": [
        "# mount Google Drive + creat symbolic link to short its path\n",
        "%cd ..\n",
        "from google.colab import drive\n",
        "drive.mount('/content/gdrive')\n",
        "!ln -s /content/gdrive/My\\ Drive/ /mydrive"
      ],
      "execution_count": null,
      "outputs": []
    },
    {
      "cell_type": "markdown",
      "metadata": {
        "id": "ZkIxZ0h6CUDx"
      },
      "source": [
        "## Dataset preprocessing"
      ]
    },
    {
      "cell_type": "code",
      "metadata": {
        "id": "ADvAdRFO98go"
      },
      "source": [
        "%cd /content/darknet\n",
        "!mkdir /content/darknet/data/bdd100k/"
      ],
      "execution_count": null,
      "outputs": []
    },
    {
      "cell_type": "code",
      "metadata": {
        "id": "TbE3z0s2-ATi"
      },
      "source": [
        "# copy the dataset from drive\n",
        "!cp /mydrive/bdd100k/bdd100k_images.zip /content/darknet/data/bdd100k/\n",
        "!cp /mydrive/bdd100k/bdd100k_labels_release.zip /content/darknet/data/bdd100k/"
      ],
      "execution_count": null,
      "outputs": []
    },
    {
      "cell_type": "code",
      "metadata": {
        "id": "JtPvtiON-Gnu"
      },
      "source": [
        "%cd /content/darknet/data/bdd100k/\n",
        "!ls"
      ],
      "execution_count": null,
      "outputs": []
    },
    {
      "cell_type": "code",
      "metadata": {
        "id": "tAQzVUkw-IQs"
      },
      "source": [
        "!unzip bdd100k_images.zip\n",
        "!unzip bdd100k_labels_release.zip"
      ],
      "execution_count": null,
      "outputs": []
    },
    {
      "cell_type": "code",
      "metadata": {
        "id": "zP7zc44J-Jpn"
      },
      "source": [
        "# delete the original zip files, to free up storage space\n",
        "%cd /content/darknet/data/bdd100k\n",
        "!find . -name \"*.zip\" -type f -delete"
      ],
      "execution_count": null,
      "outputs": []
    },
    {
      "cell_type": "code",
      "metadata": {
        "id": "582LST5S-WjR"
      },
      "source": [
        "# copy the necessary Python script and folder creating\n",
        "%cd /content/darknet/data/bdd100k/bdd100k\n",
        "!cp /mydrive/bdd100k/label_to_txt.py /content/darknet/data/bdd100k/bdd100k\n",
        "!mkdir /content/darknet/data/bdd100k/bdd100k/labels/train\n",
        "!mkdir /content/darknet/data/bdd100k/bdd100k/labels/val"
      ],
      "execution_count": null,
      "outputs": []
    },
    {
      "cell_type": "code",
      "metadata": {
        "id": "cecun5He-Z4f"
      },
      "source": [
        "# convert the training label's .json to YOLO specific .txt\n",
        "!python label_to_txt.py -l '/content/darknet/data/bdd100k/bdd100k/labels/bdd100k_labels_images_train.json' -d '/content/darknet/data/bdd100k/bdd100k/labels/train/'"
      ],
      "execution_count": null,
      "outputs": []
    },
    {
      "cell_type": "code",
      "metadata": {
        "id": "Yg_XzYyL-cQU"
      },
      "source": [
        "# check it\n",
        "!ls /content/darknet/data/bdd100k/bdd100k/labels/train"
      ],
      "execution_count": null,
      "outputs": []
    },
    {
      "cell_type": "code",
      "metadata": {
        "id": "lE_iOi9e-eyL"
      },
      "source": [
        "# convert the validation label's .json to YOLO specific .txt\n",
        "!python label_to_txt.py -l '/content/darknet/data/bdd100k/bdd100k/labels/bdd100k_labels_images_val.json' -d '/content/darknet/data/bdd100k/bdd100k/labels/val/'"
      ],
      "execution_count": null,
      "outputs": []
    },
    {
      "cell_type": "code",
      "metadata": {
        "id": "Wf1-A989-icQ"
      },
      "source": [
        "# check it\n",
        "!ls /content/darknet/data/bdd100k/bdd100k/labels/val"
      ],
      "execution_count": null,
      "outputs": []
    },
    {
      "cell_type": "code",
      "metadata": {
        "id": "QrHQHaUZ-j7O"
      },
      "source": [
        "# delete the original labels to free up storage space\n",
        "%cd /content/darknet/data/bdd100k/bdd100k/labels\n",
        "!find . -name \"*.json\" -type f -delete"
      ],
      "execution_count": null,
      "outputs": []
    },
    {
      "cell_type": "markdown",
      "metadata": {
        "id": "APdJAdEmDhZO"
      },
      "source": [
        "## Training configuration"
      ]
    },
    {
      "cell_type": "code",
      "metadata": {
        "id": "vl2FJcEyDfZF"
      },
      "source": [
        "# get the necessary config file from drive\n",
        "# the parameter selection detailed in the thesis\n",
        "%cd /content/darknet/cfg\n",
        "!cp /content/gdrive/MyDrive/bdd100k/yolov4-bdd100k.cfg /content/darknet/cfg\n",
        "!ls /content/darknet/cfg/"
      ],
      "execution_count": null,
      "outputs": []
    },
    {
      "cell_type": "code",
      "metadata": {
        "id": "X_pPz9S5D3hE"
      },
      "source": [
        "# get the necessary .names and .data files from drive\n",
        "!cp /content/gdrive/MyDrive/bdd100k/obj.names /content/darknet/data\n",
        "!cp /content/gdrive/MyDrive/bdd100k/obj.data  /content/darknet/data"
      ],
      "execution_count": null,
      "outputs": []
    },
    {
      "cell_type": "code",
      "metadata": {
        "id": "dqIqO-rYEAGg"
      },
      "source": [
        "# get the data path generator Python scripts from drive\n",
        "!cp /mydrive/bdd100k/generate_train.py /content/darknet/data/bdd100k/\n",
        "!cp /mydrive/bdd100k/generate_val.py /content/darknet/data/bdd100k/"
      ],
      "execution_count": null,
      "outputs": []
    },
    {
      "cell_type": "code",
      "metadata": {
        "id": "1vaUeFkmESB3"
      },
      "source": [
        "# excute them\n",
        "%cd /content/darknet/data/bdd100k/\n",
        "!python generate_train.py\n",
        "!python generate_val.py"
      ],
      "execution_count": null,
      "outputs": []
    },
    {
      "cell_type": "code",
      "metadata": {
        "id": "D8JegpFeEiId"
      },
      "source": [
        "# copy the generated .txt inside the DarkNet folder\n",
        "!cp /content/darknet/data/bdd100k/bdd100k/images/100k/train.txt /content/darknet/data\n",
        "!cp /content/darknet/data/bdd100k/bdd100k/images/100k/val.txt /content/darknet/data"
      ],
      "execution_count": null,
      "outputs": []
    },
    {
      "cell_type": "code",
      "metadata": {
        "id": "y6cc_Fo-E3VL"
      },
      "source": [
        "# copy the labels .txt to the same folders as the images\n",
        "# the YOLO demands this, so it could access to data\n",
        "!cp -a \"/content/darknet/data/bdd100k/bdd100k/labels/train/.\" \"/content/darknet/data/bdd100k/bdd100k/images/100k/train/\"\n",
        "!cp -a \"/content/darknet/data/bdd100k/bdd100k/labels/val/.\" \"/content/darknet/data/bdd100k/bdd100k/images/100k/val/\""
      ],
      "execution_count": null,
      "outputs": []
    },
    {
      "cell_type": "code",
      "metadata": {
        "id": "-Ca5EiMkFNpT"
      },
      "source": [
        "# check the training folder content\n",
        "!ls '/content/darknet/data/bdd100k/bdd100k/images/100k/train/'"
      ],
      "execution_count": null,
      "outputs": []
    },
    {
      "cell_type": "code",
      "metadata": {
        "id": "f-U-GLcbFL3S"
      },
      "source": [
        "# check the validation folder content\n",
        "!ls '/content/darknet/data/bdd100k/bdd100k/images/100k/val/'"
      ],
      "execution_count": null,
      "outputs": []
    },
    {
      "cell_type": "markdown",
      "metadata": {
        "id": "8LuzSxmUGAB9"
      },
      "source": [
        "## Training"
      ]
    },
    {
      "cell_type": "markdown",
      "metadata": {
        "id": "GNKQpQQcE6WJ"
      },
      "source": [
        "Pressing **Ctrl+Shift+I** (or **F12**) the browser console opens up. Copying this script is prevent the Colab's timeout.\n",
        "```\n",
        "function ClickConnect(){\n",
        "console.log(\"Working\"); \n",
        "document\n",
        "  .querySelector('#top-toolbar > colab-connect-button')\n",
        "  .shadowRoot.querySelector('#connect')\n",
        "  .click() \n",
        "}\n",
        "setInterval(ClickConnect,60000)\n",
        "```\n"
      ]
    },
    {
      "cell_type": "code",
      "metadata": {
        "id": "ech8JzzoGeVY"
      },
      "source": [
        "%cd /content/darknet"
      ],
      "execution_count": null,
      "outputs": []
    },
    {
      "cell_type": "code",
      "metadata": {
        "id": "vM_LE62cGkfP"
      },
      "source": [
        "# training from scratch\n",
        "!./darknet detector train data/obj.data cfg/yolov4-bdd100k.cfg -dont_show -map"
      ],
      "execution_count": null,
      "outputs": []
    },
    {
      "cell_type": "code",
      "metadata": {
        "id": "51IeKuiyGuMD"
      },
      "source": [
        "# training with pretrained weights\n",
        "!./darknet detector train data/obj.data cfg/yolov4-bdd100k.cfg /mydrive/bdd100k/backup/yolov4-bdd100k_last.weights -dont_show -map"
      ],
      "execution_count": null,
      "outputs": []
    },
    {
      "cell_type": "markdown",
      "metadata": {
        "id": "jS5IjE0fHMBr"
      },
      "source": [
        "## Evaluation"
      ]
    },
    {
      "cell_type": "code",
      "metadata": {
        "id": "6n3ZbXC2HTYD"
      },
      "source": [
        "# calculate metrics\n",
        "!./darknet detector map data/obj.data cfg/yolov4-bdd100k.cfg /mydrive/bdd100k/backup/yolov4-bdd100k_last.weights"
      ],
      "execution_count": null,
      "outputs": []
    },
    {
      "cell_type": "code",
      "metadata": {
        "id": "U6lyzOUlHi1A"
      },
      "source": [
        "# testing on video\n",
        "!./darknet detector demo data/obj.data cfg/yolov4-bdd100k.cfg yolov4_bdd100k_last.weights -dont_show /mydrive/video/traffic_video.mp4 -i 0 -out_filename /mydrive/video/results.avi"
      ],
      "execution_count": null,
      "outputs": []
    }
  ]
}